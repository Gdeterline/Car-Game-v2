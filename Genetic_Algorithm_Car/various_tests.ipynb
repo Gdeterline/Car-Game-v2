{
 "cells": [
  {
   "cell_type": "code",
   "execution_count": 7,
   "metadata": {},
   "outputs": [],
   "source": [
    "from NeuralNetwork import NeuralNetwork\n",
    "import torch.nn as nn\n",
    "import torch\n",
    "import numpy as np"
   ]
  },
  {
   "cell_type": "code",
   "execution_count": 12,
   "metadata": {},
   "outputs": [
    {
     "name": "stdout",
     "output_type": "stream",
     "text": [
      "tensor([0.9458, 0.4274, 0.7629, 0.7706, 0.9820], grad_fn=<SigmoidBackward0>)\n"
     ]
    }
   ],
   "source": [
    "sensors = [4, 7]\n",
    "\n",
    "sensorsT = torch.FloatTensor(sensors)\n",
    "\n",
    "model = NeuralNetwork(2, 2, 5)\n",
    "\n",
    "output = model.forward(sensorsT)\n",
    "\n",
    "print(output)"
   ]
  }
 ],
 "metadata": {
  "kernelspec": {
   "display_name": "Python 3",
   "language": "python",
   "name": "python3"
  },
  "language_info": {
   "codemirror_mode": {
    "name": "ipython",
    "version": 3
   },
   "file_extension": ".py",
   "mimetype": "text/x-python",
   "name": "python",
   "nbconvert_exporter": "python",
   "pygments_lexer": "ipython3",
   "version": "3.10.0"
  }
 },
 "nbformat": 4,
 "nbformat_minor": 2
}
