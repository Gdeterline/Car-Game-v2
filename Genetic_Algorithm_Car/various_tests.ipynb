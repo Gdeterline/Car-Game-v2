{
 "cells": [
  {
   "cell_type": "code",
   "execution_count": 1,
   "metadata": {},
   "outputs": [],
   "source": [
    "from NeuralNetwork import NeuralNetwork\n",
    "import numpy as np"
   ]
  },
  {
   "cell_type": "code",
   "execution_count": 2,
   "metadata": {},
   "outputs": [
    {
     "name": "stdout",
     "output_type": "stream",
     "text": [
      "[[-0.9999989]]\n",
      "[1 2 3 2 3 4 5]\n",
      "\n"
     ]
    }
   ],
   "source": [
    "nn = NeuralNetwork(1, 2, 1)\n",
    "\n",
    "x = [24]\n",
    "\n",
    "output = nn.forward(x)\n",
    "print(output)\n",
    "\n",
    "nn.set_weights(np.array([1, 2, 3, 2, 3, 4, 5]))\n",
    "print(nn.get_weights())\n",
    "print()"
   ]
  },
  {
   "cell_type": "markdown",
   "metadata": {},
   "source": [
    "Our Neural Network class now functions as expected. The only thing remaining is to build the Genetic aspect of the project - select parents, create Children from crossovers, mutations, etc."
   ]
  },
  {
   "cell_type": "code",
   "execution_count": 3,
   "metadata": {},
   "outputs": [
    {
     "name": "stdout",
     "output_type": "stream",
     "text": [
      "[[1.]]\n"
     ]
    }
   ],
   "source": [
    "print(np.round([[0.982]]))"
   ]
  },
  {
   "cell_type": "code",
   "execution_count": 4,
   "metadata": {},
   "outputs": [
    {
     "name": "stdout",
     "output_type": "stream",
     "text": [
      "[[0.84035314 0.36489967]]\n"
     ]
    }
   ],
   "source": [
    "print(np.random.rand(1, 2))"
   ]
  }
 ],
 "metadata": {
  "kernelspec": {
   "display_name": "Python 3",
   "language": "python",
   "name": "python3"
  },
  "language_info": {
   "codemirror_mode": {
    "name": "ipython",
    "version": 3
   },
   "file_extension": ".py",
   "mimetype": "text/x-python",
   "name": "python",
   "nbconvert_exporter": "python",
   "pygments_lexer": "ipython3",
   "version": "3.10.0"
  }
 },
 "nbformat": 4,
 "nbformat_minor": 2
}
