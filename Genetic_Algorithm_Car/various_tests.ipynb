{
 "cells": [
  {
   "cell_type": "code",
   "execution_count": 17,
   "metadata": {},
   "outputs": [],
   "source": [
    "from NeuralNetwork import NeuralNetwork\n",
    "import numpy as np"
   ]
  },
  {
   "cell_type": "code",
   "execution_count": 19,
   "metadata": {},
   "outputs": [
    {
     "name": "stdout",
     "output_type": "stream",
     "text": [
      "[[1.]]\n",
      "[1 2 3 2 3 4 5]\n",
      "[[3 2]]\n"
     ]
    }
   ],
   "source": [
    "nn = NeuralNetwork(1, 2, 1)\n",
    "\n",
    "x = [24]\n",
    "\n",
    "output = nn.forward(x)\n",
    "print(output)\n",
    "\n",
    "nn.set_weights(np.array([1, 2, 3, 2, 3, 4, 5]))\n",
    "print(nn.get_weights())\n",
    "print(nn.bias1)"
   ]
  }
 ],
 "metadata": {
  "kernelspec": {
   "display_name": "Python 3",
   "language": "python",
   "name": "python3"
  },
  "language_info": {
   "codemirror_mode": {
    "name": "ipython",
    "version": 3
   },
   "file_extension": ".py",
   "mimetype": "text/x-python",
   "name": "python",
   "nbconvert_exporter": "python",
   "pygments_lexer": "ipython3",
   "version": "3.10.0"
  }
 },
 "nbformat": 4,
 "nbformat_minor": 2
}
